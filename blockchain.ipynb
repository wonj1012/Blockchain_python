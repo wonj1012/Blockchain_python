{
  "cells": [
    {
      "cell_type": "code",
      "execution_count": 291,
      "metadata": {
        "id": "hZnfYvEA_hbf"
      },
      "outputs": [],
      "source": [
        "from datetime import datetime\n",
        "from hashlib import sha256"
      ]
    },
    {
      "cell_type": "code",
      "execution_count": 292,
      "metadata": {
        "id": "5F7ghjDE_nx8"
      },
      "outputs": [],
      "source": [
        "class Block:\n",
        "    timestamp: int\n",
        "    transactions: dict\n",
        "    previous_hash: str\n",
        "    nonce: int\n",
        "    difficulty: int\n",
        "    hash: str\n",
        "\n",
        "    def __init__(self, transactions: dict, previous_hash: str, nonce: int = 0, difficulty: int = 2):\n",
        "        self.timestamp = int(datetime.now().timestamp())\n",
        "        self.transactions = transactions\n",
        "        self.previous_hash = previous_hash\n",
        "        self.nonce = nonce\n",
        "        self.difficulty = difficulty\n",
        "        self.hash = self.generate_hash()\n",
        "\n",
        "    def print_block(self):\n",
        "        # prints block contents\n",
        "        print(f\"Hash: {self.hash}\\n\"\n",
        "              f\"Timestamp: {self.timestamp}\\n\"\n",
        "              f\"Transactions: {self.transactions}\\n\"\n",
        "              f\"Previous Hash: {self.previous_hash}\\n\"\n",
        "              f\"Nonce: {self.nonce}\")\n",
        "\n",
        "    def generate_hash(self) -> str:\n",
        "        # hash the blocks contents\n",
        "        block_contents = str(self.timestamp) + str(self.transactions) + str(self.previous_hash) + str(self.nonce)\n",
        "        block_hash = sha256(block_contents.encode())\n",
        "        return block_hash.hexdigest()"
      ]
    },
    {
      "cell_type": "code",
      "execution_count": 293,
      "metadata": {
        "id": "p8WLoJjqAM9x"
      },
      "outputs": [],
      "source": [
        "class Blockchain:\n",
        "    chain: list[Block]\n",
        "    all_transactions: list[dict]\n",
        "\n",
        "    def __init__(self):\n",
        "        self.chain = []\n",
        "        self.all_transactions = []\n",
        "        self.genesis_block()\n",
        "    \n",
        "    def genesis_block(self) -> list[Block]:\n",
        "        transactions = {}\n",
        "        block = Block(transactions, \"\")\n",
        "        self.chain.append(block)\n",
        "        return self.chain\n",
        "\n",
        "    def add_block(self, transactions: dict):\n",
        "        previous_block_hash = self.chain[-1].hash\n",
        "        new_block = Block(transactions, previous_block_hash)\n",
        "        hash = self.proof_of_work(new_block)\n",
        "        new_block.hash = hash\n",
        "        self.chain.append(new_block)\n",
        "        return hash\n",
        "\n",
        "    def validate_chain(self) -> bool:\n",
        "        for i in range(1, len(self.chain)):\n",
        "            current = self.chain[i]\n",
        "            previous = self.chain[i-1]\n",
        "            calculated_hash = current.generate_hash()\n",
        "            if current.hash != calculated_hash:\n",
        "                print(f\"Hash value stored in Block {i+1}: {current.hash}\\n\"\n",
        "                      f\"Hash value calculated by the data: {calculated_hash}\")\n",
        "                return False\n",
        "            elif current.hash[:current.difficulty] != '0'*current.difficulty:\n",
        "                print(\"Wrong block\", current.hash)\n",
        "                return False\n",
        "            elif current.previous_hash != previous.hash:\n",
        "                print(f\"Current Block's previous hash: {current.previous_hash}\")\n",
        "                return False\n",
        "        return True\n",
        "  \n",
        "    def proof_of_work(self, block: Block) -> str:\n",
        "        hash = block.generate_hash()\n",
        "        while hash[:block.difficulty] != '0'*block.difficulty:\n",
        "            block.nonce += 1\n",
        "            hash = block.generate_hash()\n",
        "        return hash\n",
        "    \n",
        "    def print_chain(self):\n",
        "        for block in self.chain:\n",
        "            block.print_block()\n",
        "            print()"
      ]
    },
    {
      "cell_type": "code",
      "execution_count": 294,
      "metadata": {},
      "outputs": [
        {
          "name": "stdout",
          "output_type": "stream",
          "text": [
            "Hash: 64e638c81d14a57420d8f2fb7ad8b4154856db75d949cb16cff246001b699e00\n",
            "Timestamp: 1679555146\n",
            "Transactions: {}\n",
            "Previous Hash: \n",
            "Nonce: 0\n",
            "\n"
          ]
        }
      ],
      "source": [
        "BAYcoin = Blockchain()\n",
        "BAYcoin.print_chain()"
      ]
    },
    {
      "cell_type": "code",
      "execution_count": 295,
      "metadata": {},
      "outputs": [
        {
          "name": "stdout",
          "output_type": "stream",
          "text": [
            "Hash: 64e638c81d14a57420d8f2fb7ad8b4154856db75d949cb16cff246001b699e00\n",
            "Timestamp: 1679555146\n",
            "Transactions: {}\n",
            "Previous Hash: \n",
            "Nonce: 0\n",
            "\n",
            "Hash: 005087a75d35263deacca513b43c9d5ecb5113f369f5c63d022394f6336fc3d8\n",
            "Timestamp: 1679555146\n",
            "Transactions: {'sender': 'Messi', 'receiver': 'Ronaldo', 'amount': 1000}\n",
            "Previous Hash: 64e638c81d14a57420d8f2fb7ad8b4154856db75d949cb16cff246001b699e00\n",
            "Nonce: 32\n",
            "\n"
          ]
        }
      ],
      "source": [
        "transaction1 = {\n",
        "\t'sender': 'Messi',\n",
        "\t'receiver': 'Ronaldo',\n",
        "\t'amount': 1000,\n",
        "}\n",
        "\n",
        "BAYcoin.add_block(transaction1)\n",
        "\n",
        "BAYcoin.print_chain()"
      ]
    },
    {
      "cell_type": "code",
      "execution_count": 296,
      "metadata": {},
      "outputs": [
        {
          "name": "stdout",
          "output_type": "stream",
          "text": [
            "True\n"
          ]
        }
      ],
      "source": [
        "print(BAYcoin.validate_chain())"
      ]
    },
    {
      "cell_type": "code",
      "execution_count": 297,
      "metadata": {},
      "outputs": [
        {
          "name": "stdout",
          "output_type": "stream",
          "text": [
            "Hash: 005087a75d35263deacca513b43c9d5ecb5113f369f5c63d022394f6336fc3d8\n",
            "Timestamp: 1679555146\n",
            "Transactions: {'sender': 'Messi', 'receiver': 'Ronaldo', 'amount': 1000}\n",
            "Previous Hash: 64e638c81d14a57420d8f2fb7ad8b4154856db75d949cb16cff246001b699e00\n",
            "Nonce: 32\n"
          ]
        }
      ],
      "source": [
        "last_block = BAYcoin.chain[-1]\n",
        "last_block.print_block()"
      ]
    },
    {
      "cell_type": "code",
      "execution_count": 298,
      "metadata": {},
      "outputs": [
        {
          "name": "stdout",
          "output_type": "stream",
          "text": [
            "Hash: 005087a75d35263deacca513b43c9d5ecb5113f369f5c63d022394f6336fc3d8\n",
            "Timestamp: 1679555146\n",
            "Transactions: {'sender': 'Messi', 'receiver': 'Ronaldo', 'amount': 3000}\n",
            "Previous Hash: 64e638c81d14a57420d8f2fb7ad8b4154856db75d949cb16cff246001b699e00\n",
            "Nonce: 32\n"
          ]
        }
      ],
      "source": [
        "fake_transaction = {\n",
        "\t'sender': 'Messi',\n",
        "\t'receiver': 'Ronaldo',\n",
        "\t'amount': 3000,\n",
        "}\n",
        "last_block.transactions = fake_transaction\n",
        "\n",
        "last_block.print_block()"
      ]
    },
    {
      "cell_type": "code",
      "execution_count": 299,
      "metadata": {},
      "outputs": [
        {
          "name": "stdout",
          "output_type": "stream",
          "text": [
            "Hash value stored in Block 2: 005087a75d35263deacca513b43c9d5ecb5113f369f5c63d022394f6336fc3d8\n",
            "Hash value calculated by the data: 52ee85d60206e0aa0a88c26043c1c71c88d38ffa5778d6a3b78b7f61880e9c93\n",
            "False\n"
          ]
        }
      ],
      "source": [
        "print(BAYcoin.validate_chain())"
      ]
    }
  ],
  "metadata": {
    "colab": {
      "provenance": []
    },
    "kernelspec": {
      "display_name": "Python 3.10.5 64-bit",
      "language": "python",
      "name": "python3"
    },
    "language_info": {
      "codemirror_mode": {
        "name": "ipython",
        "version": 3
      },
      "file_extension": ".py",
      "mimetype": "text/x-python",
      "name": "python",
      "nbconvert_exporter": "python",
      "pygments_lexer": "ipython3",
      "version": "3.10.5"
    },
    "orig_nbformat": 4,
    "vscode": {
      "interpreter": {
        "hash": "a13270344d28d118f8625508f2b4014b30c5cdb618833504410b6ca2aece64dd"
      }
    }
  },
  "nbformat": 4,
  "nbformat_minor": 0
}
